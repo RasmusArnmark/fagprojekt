{
 "cells": [
  {
   "cell_type": "code",
   "execution_count": 33,
   "metadata": {},
   "outputs": [],
   "source": [
    "import numpy as np\n",
    "import mne\n",
    "import pandas as pd\n",
    "import matplotlib.pyplot as plt\n",
    "import seaborn as sns\n",
    "import glob\n",
    "import os\n",
    "import pickle\n"
   ]
  },
  {
   "cell_type": "code",
   "execution_count": 34,
   "metadata": {},
   "outputs": [
    {
     "name": "stdout",
     "output_type": "stream",
     "text": []
    },
    {
     "name": "stdout",
     "output_type": "stream",
     "text": []
    }
   ],
   "source": [
    "epochs = mne.read_epochs(\"data/301A_FG_preprocessed-epo.fif\", preload=True)\n",
    "epochs.average().plot()\n",
    "epochs.average().plot_topomap(times=np.linspace(0.2,5,8), ch_type=\"eeg\", show=False)\n",
    "\n",
    "\n",
    "plt.show()"
   ]
  },
  {
   "cell_type": "code",
   "execution_count": 35,
   "metadata": {},
   "outputs": [
    {
     "name": "stdout",
     "output_type": "stream",
     "text": []
    }
   ],
   "source": [
    "epochs = mne.read_epochs(\"data/301A_FG_preprocessed-epo.fif\", preload=True)\n",
    "\n",
    "epochs_resampled = epochs.copy().resample(200)\n",
    "\n",
    "data_resampled = epochs_resampled.get_data()\n",
    "\n",
    "print(f'Resampled EEG shape: {data_resampled.shape}')"
   ]
  },
  {
   "cell_type": "code",
   "execution_count": null,
   "metadata": {},
   "outputs": [],
   "source": []
  },
  {
   "cell_type": "code",
   "execution_count": 36,
   "metadata": {},
   "outputs": [
    {
     "name": "stdout",
     "output_type": "stream",
     "text": []
    },
    {
     "name": "stdout",
     "output_type": "stream",
     "text": []
    }
   ],
   "source": [
    "labels = epochs.events[:,-1]\n",
    "binary_labels = np.array([0 if l in [301, 303, 305, 307, 309] else 1 for l in labels])\n",
    "\n",
    "# Load a pickle file\n",
    "with open(\"data/FG_overview_df_v2.pkl\", \"rb\") as file:\n",
    "    data = pickle.load(file)\n",
    "\n",
    "print(type(data))  # Check the type of the loaded object\n",
    "data  # Print the contents\n",
    "\n"
   ]
  },
  {
   "cell_type": "code",
   "execution_count": 47,
   "metadata": {},
   "outputs": [
    {
     "name": "stdout",
     "output_type": "stream",
     "text": []
    }
   ],
   "source": [
    "import torch\n",
    "import mne\n",
    "import numpy as np\n",
    "import glob\n",
    "import pandas as pd\n",
    "\n",
    "# Load metadata DataFrame\n",
    "df_info = pd.read_pickle(\"data/FG_overview_df_v2.pkl\")  # Update with actual path\n",
    "\n",
    "# Define event IDs\n",
    "event_labels = {'T1P': 301, 'T1Pn': 302, 'T3P': 303, 'T3Pn': 304,\n",
    "                'T12P': 305, 'T12Pn': 306, 'T13P': 307, 'T13Pn': 308,\n",
    "                'T23P': 309, 'T23Pn': 310}\n",
    "\n",
    "file_paths = glob.glob(\"data/*_FG_preprocessed-epo.fif\")  # Update with actual data path\n",
    "print(f\"Found {len(file_paths)} EEG files.\")\n",
    "\n",
    "all_eeg_data, all_labels = [], []\n",
    "\n",
    "for file_path in file_paths[:5]:\n",
    "    # Extract filename (e.g., \"301A\")\n",
    "    file_name = file_path.split(\"/\")[-1].split(\"_\")[0]  # Extract \"301A\"\n",
    "\n",
    "    # Extract Experiment ID (e.g., \"301\")\n",
    "    exp_id = file_name[:4]\n",
    "\n",
    "    # Get participants for this experiment\n",
    "    experiment_participants = df_info[df_info[\"Exp_id\"] == exp_id]\n",
    "\n",
    "    if experiment_participants.empty:\n",
    "        print(f\"Skipping {file_name}: No participants found for {exp_id}.\")\n",
    "        continue\n",
    "\n",
    "    # Load EEG file\n",
    "    epochs = mne.read_epochs(file_path, preload=True)\n",
    "    epochs.resample(200)\n",
    "    eeg_data = epochs.get_data()  # Shape: (n_epochs, n_channels, n_times)\n",
    "    labels = epochs.events[:, -1]  # Extract event labels\n",
    "\n",
    "    # Process each participant in the experiment\n",
    "    for _, row in experiment_participants.iterrows():\n",
    "        subject_id = row[\"Subject_id\"]\n",
    "        eeg_device = row[\"EEG_device\"]  # 1, 2, or 3\n",
    "\n",
    "        # Map EEG device to the corresponding event labels\n",
    "        device_event_labels = {\n",
    "            1: {301, 302, 305, 306, 307, 308},  # T1 labels\n",
    "            2: {303, 304, 305, 306, 309, 310},  # T2 labels\n",
    "            3: {307, 308, 309, 310, 303, 304},  # T3 labels\n",
    "        }\n",
    "\n",
    "        valid_events = device_event_labels[eeg_device]\n",
    "\n",
    "        # Filter trials for this subject\n",
    "        valid_trials = [i for i, label in enumerate(labels) if label in valid_events]\n",
    "\n",
    "        if len(valid_trials) == 0:\n",
    "            print(f\"Skipping subject {subject_id} in {exp_id}: No relevant trials for EEG device {eeg_device}.\")\n",
    "            continue\n",
    "\n",
    "        # Keep only the relevant trials\n",
    "        eeg_subject_data = eeg_data[valid_trials]\n",
    "        labels_subject = labels[valid_trials]\n",
    "\n",
    "        # Normalize per file\n",
    "        eeg_subject_data = (eeg_subject_data - eeg_subject_data.mean()) / eeg_subject_data.std()\n",
    "\n",
    "        # Convert labels to binary classification (feedback vs. no feedback)\n",
    "        binary_labels = np.array([1 if label in {301, 303, 305, 307, 309} else 0 for label in labels_subject])\n",
    "\n",
    "        all_eeg_data.append(eeg_subject_data)\n",
    "        all_labels.append(binary_labels)\n",
    "\n",
    "# Convert to PyTorch tensors\n",
    "eeg_tensor = torch.tensor(np.concatenate(all_eeg_data, axis=0), dtype=torch.float32)\n",
    "labels_tensor = torch.tensor(np.concatenate(all_labels, axis=0), dtype=torch.long)\n",
    "\n",
    "num_patches = 6  # Choose the number of patches\n",
    "time_steps_per_patch = eeg_tensor.shape[2] // num_patches  # Divide time into patches\n",
    "\n",
    "print(eeg_tensor.shape)\n",
    "# Reshape EEG tensor\n",
    "eeg_tensor = eeg_tensor.reshape(eeg_tensor.shape[0], eeg_tensor.shape[1], num_patches, time_steps_per_patch)\n",
    "eeg_tensor.shape\n",
    "\n",
    "print(f\"Final EEG Tensor Shape: {eeg_tensor.shape}\")\n"
   ]
  },
  {
   "cell_type": "code",
   "execution_count": 48,
   "metadata": {},
   "outputs": [],
   "source": [
    "epochs = mne.read_epochs(file_paths[0])\n",
    "labels = epochs.info['ch_names']\n",
    "electrode_names = [l.upper() for l in labels]"
   ]
  },
  {
   "cell_type": "code",
   "execution_count": 39,
   "metadata": {},
   "outputs": [
    {
     "name": "stdout",
     "output_type": "stream",
     "text": []
    }
   ],
   "source": [
    "eeg_tensor.shape, labels_tensor.shape"
   ]
  },
  {
   "cell_type": "code",
   "execution_count": 41,
   "metadata": {},
   "outputs": [
    {
     "name": "stdout",
     "output_type": "stream",
     "text": []
    }
   ],
   "source": [
    "import torch\n",
    "import torch.nn as nn\n",
    "import torch.optim as optim\n",
    "from torch.utils.data import Dataset, DataLoader\n",
    "from torcheeg.models import LaBraM\n",
    "\n",
    "# Define EEG Dataset class\n",
    "class EEGDataset(Dataset):\n",
    "    def __init__(self, eeg_data, labels):\n",
    "        self.eeg_data = eeg_data\n",
    "        self.labels = labels\n",
    "\n",
    "    def __len__(self):\n",
    "        return len(self.labels)\n",
    "\n",
    "    def __getitem__(self, idx):\n",
    "        return self.eeg_data[idx], self.labels[idx]\n",
    "\n",
    "# Convert dataset to PyTorch Dataset format\n",
    "dataset = EEGDataset(eeg_tensor, labels_tensor)\n",
    "dataloader = DataLoader(dataset, batch_size=16, shuffle=True)\n",
    "\n",
    "\n",
    "# Initialize LabRam Model\n",
    "device = torch.device(\"cuda\" if torch.cuda.is_available() else \"cpu\")\n",
    "model = LaBraM(in_channels=len(electrode_names), num_classes=2).to(device)\n",
    "\n",
    "\n",
    "# Define loss function and optimizer\n",
    "criterion = nn.CrossEntropyLoss()\n",
    "optimizer = optim.Adam(model.parameters(), lr=0.001)\n",
    "\n",
    "# Training loop\n",
    "num_epochs = 10\n",
    "for epoch in range(num_epochs):\n",
    "    model.train()\n",
    "    running_loss = 0.0\n",
    "\n",
    "    for inputs, labels in dataloader:\n",
    "        inputs, labels = inputs.to(device), labels.to(device)\n",
    "        print(inputs.shape)\n",
    "\n",
    "        optimizer.zero_grad()\n",
    "        outputs = model(inputs, electrodes=electrode_names)\n",
    "        loss = criterion(outputs, labels)\n",
    "        loss.backward()\n",
    "        optimizer.step()\n",
    "\n",
    "        running_loss += loss.item()\n",
    "\n",
    "    print(f\"Epoch [{epoch+1}/{num_epochs}], Loss: {running_loss / len(dataloader):.4f}\")\n",
    "\n",
    "print(\"Training Complete!\")\n"
   ]
  },
  {
   "cell_type": "code",
   "execution_count": 42,
   "metadata": {},
   "outputs": [
    {
     "name": "stdout",
     "output_type": "stream",
     "text": []
    },
    {
     "name": "stdout",
     "output_type": "stream",
     "text": []
    },
    {
     "name": "stdout",
     "output_type": "stream",
     "text": []
    }
   ],
   "source": [
    "from sklearn.model_selection import train_test_split\n",
    "from sklearn.metrics import confusion_matrix, classification_report\n",
    "\n",
    "# Split data into train and test sets\n",
    "\n",
    "# Create train/test split (80/20)\n",
    "train_indices, test_indices = train_test_split(\n",
    "    range(len(dataset)), test_size=0.2, random_state=42, stratify=labels_tensor.numpy()\n",
    ")\n",
    "\n",
    "# Create data loaders\n",
    "train_dataset = torch.utils.data.Subset(dataset, train_indices)\n",
    "test_dataset = torch.utils.data.Subset(dataset, test_indices)\n",
    "\n",
    "train_loader = DataLoader(train_dataset, batch_size=16, shuffle=True)\n",
    "test_loader = DataLoader(test_dataset, batch_size=16, shuffle=False)\n",
    "\n",
    "# Evaluate model\n",
    "model.eval()\n",
    "correct = 0\n",
    "total = 0\n",
    "\n",
    "with torch.no_grad():\n",
    "    for inputs, labels in test_loader:\n",
    "        inputs, labels = inputs.to(device), labels.to(device)\n",
    "        outputs = model(inputs, electrodes=electrode_names)\n",
    "        _, predicted = torch.max(outputs.data, 1)\n",
    "        total += labels.size(0)\n",
    "        correct += (predicted == labels).sum().item()\n",
    "\n",
    "accuracy = 100 * correct / total\n",
    "print(f'Test Accuracy: {accuracy:.2f}%')\n",
    "\n",
    "# Calculate confusion matrix\n",
    "\n",
    "all_preds = []\n",
    "all_labels = []\n",
    "\n",
    "with torch.no_grad():\n",
    "    for inputs, labels in test_loader:\n",
    "        inputs, labels = inputs.to(device), labels.to(device)\n",
    "        outputs = model(inputs, electrodes=electrode_names)\n",
    "        _, predicted = torch.max(outputs.data, 1)\n",
    "        all_preds.extend(predicted.cpu().numpy())\n",
    "        all_labels.extend(labels.cpu().numpy())\n",
    "\n",
    "# Create confusion matrix\n",
    "cm = confusion_matrix(all_labels, all_preds)\n",
    "\n",
    "# Plot confusion matrix\n",
    "plt.figure(figsize=(8, 6))\n",
    "sns.heatmap(cm, annot=True, fmt='d', cmap='Blues', cbar=False)\n",
    "plt.xlabel('Predicted')\n",
    "plt.ylabel('True')\n",
    "plt.title('Confusion Matrix')\n",
    "plt.show()\n",
    "\n",
    "# Print classification report\n",
    "print(classification_report(all_labels, all_preds, target_names=['No Feedback', 'Feedback']))"
   ]
  },
  {
   "cell_type": "code",
   "execution_count": 45,
   "metadata": {},
   "outputs": [
    {
     "name": "stdout",
     "output_type": "stream",
     "text": []
    },
    {
     "name": "stdout",
     "output_type": "stream",
     "text": []
    },
    {
     "name": "stdout",
     "output_type": "stream",
     "text": []
    }
   ],
   "source": [
    "from sklearn.model_selection import train_test_split\n",
    "from torch.utils.data import Subset\n",
    "from sklearn.metrics import confusion_matrix, classification_report, accuracy_score\n",
    "import seaborn as sns\n",
    "\n",
    "torch.save(model.state_dict(), \"eeg_labram_model.pth\")\n",
    "\n",
    "# Evaluation\n",
    "model.eval()\n",
    "all_preds = []\n",
    "all_labels = []\n",
    "\n",
    "# Create test dataloader - using 20% of data for testing\n",
    "\n",
    "# Generate indices for train and test\n",
    "indices = list(range(len(dataset)))\n",
    "train_indices, test_indices = train_test_split(indices, test_size=0.2, random_state=42, stratify=labels_tensor)\n",
    "\n",
    "# Create test dataset and dataloader\n",
    "test_dataset = Subset(dataset, test_indices)\n",
    "test_dataloader = DataLoader(test_dataset, batch_size=16, shuffle=False)\n",
    "\n",
    "# Evaluate\n",
    "with torch.no_grad():\n",
    "    correct = 0\n",
    "    total = 0\n",
    "    \n",
    "    for inputs, labels in test_dataloader:\n",
    "        inputs, labels = inputs.to(device), labels.to(device)\n",
    "        outputs = model(inputs, electrodes=electrode_names)\n",
    "        _, predicted = torch.max(outputs.data, 1)\n",
    "        \n",
    "        total += labels.size(0)\n",
    "        correct += (predicted == labels).sum().item()\n",
    "        \n",
    "        all_preds.extend(predicted.cpu().numpy())\n",
    "        all_labels.extend(labels.cpu().numpy())\n",
    "\n",
    "accuracy = 100 * correct / total\n",
    "print(f'Test Accuracy: {accuracy:.2f}%')\n",
    "\n",
    "# Confusion matrix and classification report\n",
    "\n",
    "# Convert to numpy arrays for sklearn\n",
    "all_preds = np.array(all_preds)\n",
    "all_labels = np.array(all_labels)\n",
    "\n",
    "# Calculate and display confusion matrix\n",
    "cm = confusion_matrix(all_labels, all_preds)\n",
    "plt.figure(figsize=(8, 6))\n",
    "sns.heatmap(cm, annot=True, fmt='d', cmap='Blues', \n",
    "            xticklabels=['No Feedback', 'Feedback'],\n",
    "            yticklabels=['No Feedback', 'Feedback'])\n",
    "plt.xlabel('Predicted')\n",
    "plt.ylabel('True')\n",
    "plt.title('Confusion Matrix')\n",
    "plt.show()\n",
    "\n",
    "# Classification report\n",
    "print(\"Classification Report:\")\n",
    "print(classification_report(all_labels, all_preds, \n",
    "                           target_names=['No Feedback', 'Feedback']))"
   ]
  },
  {
   "cell_type": "code",
   "execution_count": 46,
   "metadata": {},
   "outputs": [
    {
     "name": "stdout",
     "output_type": "stream",
     "text": []
    },
    {
     "name": "stdout",
     "output_type": "stream",
     "text": []
    }
   ],
   "source": [
    "import torcheeg.models as models\n",
    "print(dir(models))  # Lists all available models\n",
    "\n",
    "l = ['FP1', 'FPZ', 'FP2', 'AF9', 'AF7', 'AF5', 'AF3', 'AF1', 'AFZ', 'AF2', 'AF4', 'AF6', 'AF8', 'AF10', 'F9', 'F7', 'F5', 'F3', 'F1', 'FZ', 'F2', 'F4', 'F6', 'F8', 'F10', 'FT9', 'FT7', 'FC5', 'FC3', 'FC1', 'FCZ', 'FC2', 'FC4', 'FC6', 'FT8', 'FT10', 'T9', 'T7', 'C5', 'C3', 'C1', 'CZ', 'C2', 'C4', 'C6', 'T8', 'T10', 'TP9', 'TP7', 'CP5', 'CP3', 'CP1', 'CPZ', 'CP2', 'CP4', 'CP6', 'TP8', 'TP10', 'P9', 'P7', 'P5', 'P3', 'P1', 'PZ', 'P2', 'P4', 'P6', 'P8', 'P10', 'PO9', 'PO7', 'PO5', 'PO3', 'PO1', 'POZ', 'PO2', 'PO4', 'PO6', 'PO8', 'PO10', 'O1', 'OZ', 'O2', 'O9', 'CB1', 'CB2', 'IZ', 'O10', 'T3', 'T5', 'T4', 'T6', 'M1', 'M2', 'A1', 'A2', 'CFC1', 'CFC2', 'CFC3', 'CFC4', 'CFC5', 'CFC6', 'CFC7', 'CFC8', 'CCP1', 'CCP2', 'CCP3', 'CCP4', 'CCP5', 'CCP6', 'CCP7', 'CCP8', 'T1', 'T2', 'FTT9h', 'TTP7h', 'TPP9h', 'FTT10h', 'TPP8h', 'TPP10h', 'FP1-F7', 'F7-T7', 'T7-P7', 'P7-O1', 'FP2-F8', 'F8-T8', 'T8-P8', 'P8-O2', 'FP1-F3', 'F3-C3', 'C3-P3', 'P3-O1', 'FP2-F4', 'F4-C4', 'C4-P4', 'P4-O2']\n",
    "len(l)"
   ]
  }
 ],
 "metadata": {
  "kernelspec": {
   "display_name": "fp",
   "language": "python",
   "name": "python3"
  },
  "language_info": {
   "codemirror_mode": {
    "name": "ipython",
    "version": 3
   },
   "file_extension": ".py",
   "mimetype": "text/x-python",
   "name": "python",
   "nbconvert_exporter": "python",
   "pygments_lexer": "ipython3",
   "version": "3.11.11"
  },
  "orig_nbformat": 4
 },
 "nbformat": 4,
 "nbformat_minor": 2
}
